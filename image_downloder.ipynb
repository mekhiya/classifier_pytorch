{
  "nbformat": 4,
  "nbformat_minor": 0,
  "metadata": {
    "colab": {
      "provenance": [],
      "include_colab_link": true
    },
    "kernelspec": {
      "name": "python3",
      "display_name": "Python 3"
    },
    "language_info": {
      "name": "python"
    }
  },
  "cells": [
    {
      "cell_type": "markdown",
      "metadata": {
        "id": "view-in-github",
        "colab_type": "text"
      },
      "source": [
        "<a href=\"https://colab.research.google.com/github/mekhiya/classifier_pytorch/blob/main/image_downloder.ipynb\" target=\"_parent\"><img src=\"https://colab.research.google.com/assets/colab-badge.svg\" alt=\"Open In Colab\"/></a>"
      ]
    },
    {
      "cell_type": "markdown",
      "source": [
        "## Code was not run inside google colab, it ws run locally"
      ],
      "metadata": {
        "id": "2P31fuYEEurM"
      }
    },
    {
      "cell_type": "markdown",
      "source": [
        "## Requirements.txt"
      ],
      "metadata": {
        "id": "YIbdklbREzLj"
      }
    },
    {
      "cell_type": "code",
      "source": [
        "requests~=2.31.0\n",
        "selenium~=4.18.1\n",
        "pillow~=10.2.0\n",
        "webdriver-manager~=4.0.1"
      ],
      "metadata": {
        "id": "oCB5SzKQEzI5"
      },
      "execution_count": null,
      "outputs": []
    },
    {
      "cell_type": "markdown",
      "source": [
        "## startDownlod.py"
      ],
      "metadata": {
        "id": "GOdWuR_DFfuF"
      }
    },
    {
      "cell_type": "code",
      "source": [
        "# import shutil\n",
        "import os\n",
        "import io\n",
        "import requests\n",
        "# from selenium import webdriver\n",
        "from selenium.webdriver.common.by import By\n",
        "# import urllib\n",
        "import time\n",
        "from PIL import Image\n",
        "\n",
        "from selenium import webdriver\n",
        "from selenium.webdriver.chrome.service import Service as ChromeService\n",
        "from webdriver_manager.chrome import ChromeDriverManager\n",
        "\n",
        "\n",
        "def getimageurls(url):\n",
        "    driver = webdriver.Chrome(service=ChromeService(ChromeDriverManager().install()))\n",
        "    print(\"webdriver object created\")\n",
        "\n",
        "    new_url = url\n",
        "    driver.get(new_url)\n",
        "    print(new_url)\n",
        "\n",
        "    # driver.execute_script(\"window.scrollTo(0,document.body.scrollHeight);\")\n",
        "    time.sleep(5)\n",
        "\n",
        "    y = 1000\n",
        "    for timer in range(0, 10):\n",
        "        driver.execute_script(\"window.scrollTo(0, \" + str(y) + \")\")\n",
        "        y += 1000\n",
        "        time.sleep(1)\n",
        "\n",
        "    images = driver.find_elements(By.TAG_NAME, 'img')\n",
        "    # print(images)\n",
        "    imgCount = 0\n",
        "    imagelist = []\n",
        "    for image in images:\n",
        "        surl = image.get_attribute('src')\n",
        "        if 'https://assets' in surl and '.jpg' in surl:\n",
        "            # print(surl)\n",
        "            imagelist.append(surl)\n",
        "            imgCount += 1\n",
        "    # print(f\"num of images found is {imgCount}\")\n",
        "    return imagelist\n",
        "\n",
        "def downloadimages(query, imageList):\n",
        "\n",
        "    # download_path =''\n",
        "    # url=''\n",
        "    # file_name=''\n",
        "    idx = 0\n",
        "    for download_path in range(0, len(imageList)-1):\n",
        "        idx+=1\n",
        "        download_path = imageList[idx]\n",
        "        file_name = query + '-' + str(idx) + '.jpeg'\n",
        "        localpath = 'images\\\\' + query + '\\\\' + file_name\n",
        "        image_content = requests.get(download_path).content\n",
        "        image_file = io.BytesIO(image_content)\n",
        "        image = Image.open(image_file)\n",
        "\n",
        "        # Check if the image can be identified and is in a compatible format\n",
        "        if image.format not in [\"JPEG\", \"PNG\"]:\n",
        "            print(f\"Skipping image with unsupported format: {download_path}\")\n",
        "            continue\n",
        "\n",
        "        with open(localpath, \"wb\") as f:\n",
        "            image.save(f, \"JPEG\")\n",
        "            print(f\"{file_name} saved\")\n",
        "\n",
        "\n",
        "def main():\n",
        "    pages = 10\n",
        "\n",
        "    # query = 'women-long-sleeves'\n",
        "    # query = 'women-short-sleeves'\n",
        "    # query = 'men-long-sleeves'\n",
        "    query = 'men-short-sleeves'\n",
        "\n",
        "    imageList = []\n",
        "    for page in range(1,pages+1):\n",
        "        url = 'https://www.myntra.com/' + query + '?p=' + str(page)\n",
        "        print(url)\n",
        "        resultlist = getimageurls(url)\n",
        "        imageList = imageList + resultlist\n",
        "        print(f\"Number of urls from Page{page} = {len(resultlist)}\")\n",
        "\n",
        "    print(f\"Total urls from {pages} pages = {len(imageList)}\")\n",
        "    downloadimages(query, imageList)\n",
        "\n",
        "if __name__ == \"__main__\":\n",
        "    main()\n"
      ],
      "metadata": {
        "id": "uLDLuQh5EzPF"
      },
      "execution_count": null,
      "outputs": []
    }
  ]
}